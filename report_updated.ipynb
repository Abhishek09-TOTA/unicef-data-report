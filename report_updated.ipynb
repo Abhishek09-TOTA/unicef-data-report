{
  "cells": [
    {
      "cell_type": "markdown",
      "id": "06cedb0a",
      "metadata": {
        "id": "06cedb0a"
      },
      "source": [
        "---\n",
        "title: \"Bridging the Education Gap: A Global Perspective\"\n",
        "author: \"Abhishek Kumar\"\n",
        "affiliation: \"DCU Business School\"\n",
        "format: html\n",
        "---\n",
        "\n",
        "![DCU Logo](https://www.dcu.ie/sites/default/files/styles/gallery_large/public/2021-03/dcu-logo_0.png)\n"
      ]
    },
    {
      "cell_type": "markdown",
      "id": "d98099c4",
      "metadata": {
        "id": "d98099c4"
      },
      "source": [
        "## 📖 Introduction\n",
        "This report explores global disparities in education and child well-being. The analysis uses UNICEF indicators to visualize trends and relationships in school attendance, deprivation, and life expectancy."
      ]
    },
    {
      "cell_type": "markdown",
      "id": "be03125c",
      "metadata": {
        "id": "be03125c"
      },
      "source": [
        "## 🌍 World Map: Out-of-School Rates (2019)\n",
        "The following chart shows the percentage of adolescents out of school in 2019 across countries."
      ]
    },
    {
      "cell_type": "code",
      "execution_count": null,
      "id": "ad2c4175",
      "metadata": {
        "id": "ad2c4175"
      },
      "outputs": [],
      "source": [
        "import pandas as pd\n",
        "import plotly.express as px\n",
        "map_df = pd.read_csv('map_data.csv')\n",
        "fig = px.choropleth(map_df, locations='alpha_3_code', color='obs_value',\n",
        "                    hover_name='country', color_continuous_scale='Reds',\n",
        "                    labels={'obs_value':'Out-of-School %'})\n",
        "fig.show()"
      ]
    },
    {
      "cell_type": "markdown",
      "id": "415284e9",
      "metadata": {
        "id": "415284e9"
      },
      "source": [
        "## 📊 Bar Chart: Children with One Deprivation (Top 10 Countries, 2017)\n",
        "This chart shows the countries with the highest percentage of children suffering one deprivation."
      ]
    },
    {
      "cell_type": "code",
      "execution_count": null,
      "id": "39ec5087",
      "metadata": {
        "id": "39ec5087"
      },
      "outputs": [],
      "source": [
        "bar_df = pd.read_csv('bar_data.csv')\n",
        "import seaborn as sns\n",
        "import matplotlib.pyplot as plt\n",
        "plt.figure(figsize=(10,6))\n",
        "sns.barplot(data=bar_df, x='obs_value', y='country', palette='flare')\n",
        "plt.xlabel('% with One Deprivation')\n",
        "plt.ylabel('Country')\n",
        "plt.title('Top 10 Countries (2017)')\n",
        "plt.tight_layout()\n",
        "plt.show()"
      ]
    },
    {
      "cell_type": "markdown",
      "id": "59f1418d",
      "metadata": {
        "id": "59f1418d"
      },
      "source": [
        "## 🔵 Scatterplot: GDP vs Deprivation (2017)\n",
        "This scatterplot examines the relationship between a country's GDP per capita and the percentage of children facing one deprivation."
      ]
    },
    {
      "cell_type": "code",
      "execution_count": null,
      "id": "a27067be",
      "metadata": {
        "id": "a27067be"
      },
      "outputs": [],
      "source": [
        "scatter_df = pd.read_csv('scatter_data.csv')\n",
        "sns.lmplot(data=scatter_df, x='GDP per capita (constant 2015 US$)', y='obs_value')\n",
        "plt.xlabel('GDP per Capita')\n",
        "plt.ylabel('% One Deprivation')\n",
        "plt.title('Deprivation vs GDP (2017)')\n",
        "plt.show()"
      ]
    },
    {
      "cell_type": "markdown",
      "id": "24079b02",
      "metadata": {
        "id": "24079b02"
      },
      "source": [
        "## 📈 Time Series: Life Expectancy Trends\n",
        "The following line chart shows life expectancy trends over time for India, Afghanistan, and Kenya."
      ]
    },
    {
      "cell_type": "code",
      "execution_count": null,
      "id": "2918b1c3",
      "metadata": {
        "id": "2918b1c3"
      },
      "outputs": [],
      "source": [
        "ts_df = pd.read_csv('time_series_data.csv')\n",
        "plt.figure(figsize=(10,6))\n",
        "sns.lineplot(data=ts_df, x='year', y='Life expectancy at birth, total (years)', hue='country')\n",
        "plt.title('Life Expectancy Over Time')\n",
        "plt.ylabel('Years')\n",
        "plt.xlabel('Year')\n",
        "plt.tight_layout()\n",
        "plt.show()"
      ]
    },
    {
      "cell_type": "markdown",
      "id": "ab3d7207",
      "metadata": {
        "id": "ab3d7207"
      },
      "source": [
        "## 📌 Conclusion\n",
        "From these visualizations, we observe significant disparities in education and well-being outcomes. These insights support the need for targeted policy efforts to reduce child deprivation and improve global educational access."
      ]
    },
    {
      "cell_type": "markdown",
      "id": "2d04c69f",
      "metadata": {
        "id": "2d04c69f"
      },
      "source": [
        "## 🛠️ How This Report Was Created\n",
        "\n",
        "- The dataset was provided in three CSV files from UNICEF: `unicef_indicator_1.csv`, `unicef_indicator_2.csv`, and `UNICEF_Metadata Cleaned.csv`.\n",
        "- Data was pre-processed using Python libraries such as `pandas`, `seaborn`, and `plotly`.\n",
        "- Four charts were created as per assignment requirements:\n",
        "  1. 🌍 World map showing out-of-school rates in 2019\n",
        "  2. 📊 Bar chart of top 10 countries with one deprivation in 2017\n",
        "  3. 🔵 Scatterplot comparing GDP per capita vs deprivation\n",
        "  4. 📈 Time-series chart of life expectancy for India, Afghanistan, and Kenya\n",
        "- Markdown text and visuals were combined into this Jupyter Notebook using Google Colab.\n",
        "- The final report was rendered using `quarto render report.ipynb` into `report.html` and published on GitHub Pages.\n"
      ]
    }
  ],
  "metadata": {
    "colab": {
      "provenance": []
    }
  },
  "nbformat": 4,
  "nbformat_minor": 5
}